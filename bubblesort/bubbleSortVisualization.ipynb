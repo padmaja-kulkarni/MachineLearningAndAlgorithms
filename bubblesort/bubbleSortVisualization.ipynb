{
 "cells": [
  {
   "cell_type": "code",
   "execution_count": 1,
   "metadata": {
    "collapsed": true
   },
   "outputs": [],
   "source": [
    "import numpy as np\n",
    "import matplotlib.pyplot as plt\n",
    "from random import randint\n",
    "from PIL import Image\n",
    "import os\n",
    "import imageio\n",
    "from pylab import imshow, show, get_cmap\n",
    "from numpy import random\n",
    "from matplotlib.colors import LinearSegmentedColormap"
   ]
  },
  {
   "cell_type": "code",
   "execution_count": 12,
   "metadata": {
    "collapsed": false
   },
   "outputs": [
    {
     "data": {
      "text/plain": [
       "array([0, 0, 0, ..., 2, 2, 2])"
      ]
     },
     "execution_count": 12,
     "metadata": {},
     "output_type": "execute_result"
    }
   ],
   "source": [
    "cdict1 = {'red':   ((0.0, 0.0, 0.0),\n",
    "                   (0.5, 0.0, 0.1),\n",
    "                   (1.0, 1.0, 1.0)),\n",
    "\n",
    "         'green': ((0.0, 0.0, 0.0),\n",
    "                   (1.0, 0.0, 0.0)),\n",
    "\n",
    "         'blue':  ((0.0, 0.0, 1.0),\n",
    "                   (0.5, 0.1, 0.0),\n",
    "                   (1.0, 0.0, 0.0))\n",
    "        }\n",
    "blue_red1 = LinearSegmentedColormap('BlueRed1', cdict1)\n",
    "map = []\n",
    "rows = 50\n",
    "columns = rows\n",
    "for y in range(rows):\n",
    "    row = []\n",
    "    for x in range(columns):\n",
    "        row.append(randint(0, 2))\n",
    "    map.append(row)  \n",
    "z = np.array(map)\n",
    "imshow(z, cmap=blue_red1, interpolation='none')\n",
    "#show()\n",
    "PATH = \"/home/padmaja/Desktop/fun/images/\"\n",
    "def sort(arr):\n",
    "    badList = arr\n",
    "    #print (badList)\n",
    "    sorted = False  # We haven't started sorting yet\n",
    "    i = 0\n",
    "    while not sorted:\n",
    "        badList = badList.flatten()\n",
    "        sorted = True  \n",
    "        for element in range(0, len(badList)):\n",
    "            badList = badList.flatten()\n",
    "            if element < len(badList)-1:\n",
    "                if badList[element] > badList[element + 1]:\n",
    "                    sorted = False \n",
    "                    hold = badList[element + 1]\n",
    "                    badList[element + 1] = badList[element]\n",
    "                    badList[element] = hold\n",
    "            if(i%100000 == 0):\n",
    "                badList.resize(rows, rows)\n",
    "                plt.imshow(badList.T, cmap=blue_red1, interpolation='none')\n",
    "                plt.axis('off')\n",
    "                filename = PATH + str(i)\n",
    "                plt.savefig(filename)\n",
    "            i = i+1\n",
    "            #show()\n",
    "    return (badList)\n",
    "\n",
    "sort(z)\n",
    "png_dir = PATH\n",
    "images = []\n",
    "for i in range(41):\n",
    "    file = PATH + str(i*100000) + '.png'\n",
    "    images.append(imageio.imread(file))\n",
    "imageio.mimsave(PATH + \"movie.gif\", images)"
   ]
  }
 ],
 "metadata": {
  "anaconda-cloud": {},
  "kernelspec": {
   "display_name": "Python [conda root]",
   "language": "python",
   "name": "conda-root-py"
  },
  "language_info": {
   "codemirror_mode": {
    "name": "ipython",
    "version": 3
   },
   "file_extension": ".py",
   "mimetype": "text/x-python",
   "name": "python",
   "nbconvert_exporter": "python",
   "pygments_lexer": "ipython3",
   "version": "3.5.2"
  }
 },
 "nbformat": 4,
 "nbformat_minor": 1
}
